{
  "nbformat": 4,
  "nbformat_minor": 0,
  "metadata": {
    "colab": {
      "private_outputs": true,
      "provenance": [],
      "include_colab_link": true
    },
    "kernelspec": {
      "name": "python3",
      "display_name": "Python 3"
    },
    "language_info": {
      "name": "python"
    }
  },
  "cells": [
    {
      "cell_type": "markdown",
      "metadata": {
        "id": "view-in-github",
        "colab_type": "text"
      },
      "source": [
        "<a href=\"https://colab.research.google.com/github/mmontana83/analisis-nombres-python/blob/main/Proyecto_1.ipynb\" target=\"_parent\"><img src=\"https://colab.research.google.com/assets/colab-badge.svg\" alt=\"Open In Colab\"/></a>"
      ]
    },
    {
      "cell_type": "markdown",
      "source": [
        "# Proyecto 1\n",
        "*Numpy, pandas y matplotlib*\n",
        "\n",
        "Los archivos .csv de https://datos.gob.ar/dataset/otros-nombres-personas-fisicas contienen los nombres de las personas registradas en el Registro Nacional de las Personas desde 1920 a 2014.\n",
        "Utilice esta información para obtener los siguientes datos:\n",
        "- Año con mayor cantidad de personas registradas;\n",
        "- Nombre más popular en todo el rango de años;\n",
        "- Nombre más largo.\n",
        "\n",
        "Agregue información al dataset considerando lo siguiente:\n",
        "- Una columna con el número de palabras del nombre;\n",
        "- Una columna con el porcentaje de registro que ese nombre representa en ese año.\n",
        "\n",
        "Represente de la mejor forma posible la siguiente información:\n",
        "- Porcentaje de datos que cada año aportó al total de la información;\n",
        "- Evolución del registro de los nombres 'Maria' y 'Juan' (solamente, sin primeros ni segundos nombres, y sin tildes). Marcar cuál es el año donde más veces se registraron;\n",
        "- El nombre más popular en cada año.\n",
        "\n",
        "Nota: Tenga en cuenta el tipo de valores o la ausencia de datos para evitar que los resultados no sean los correspondientes. Utilice la documentación si requiere usar funciones o parámetros no vistos en clases.\n",
        "No se olvide de escribir el código de forma ordenada, entendible y comentado.\n",
        "\n",
        "\n",
        "**Entrega**\n",
        "Día: Domingo 15/05 inclusive\n",
        "\n",
        "Metodología: (Colab) Descargue el archivo haciendo click en 'Archivo'->'Descargar'->'Descargar .ipynb', renómbrelo con su apellido y nombre con el formato *apellido-nombre.ipynb* y adjuntelo en el formulario de Moodle."
      ],
      "metadata": {
        "id": "Kms_R0TUuXVl"
      }
    },
    {
      "cell_type": "code",
      "source": [
        "from google.colab import drive\n",
        "drive.mount('/content/drive')"
      ],
      "metadata": {
        "id": "hXy_eUKNt0XQ"
      },
      "execution_count": null,
      "outputs": []
    },
    {
      "cell_type": "code",
      "source": [
        "import pandas as pd\n",
        "import matplotlib.pyplot as plt\n",
        "import seaborn as sns"
      ],
      "metadata": {
        "id": "g1u2DZnoFJCS"
      },
      "execution_count": null,
      "outputs": []
    },
    {
      "cell_type": "code",
      "source": [
        "#guardo las rutas de los distintos archivos csv en una lista\n",
        "file_list=['/content/drive/MyDrive/UPSO/Programación Avanzada Python/Código/nombres-1920-1924.csv',\n",
        "           '/content/drive/MyDrive/UPSO/Programación Avanzada Python/Código/nombres-1925-1929.csv',\n",
        "           '/content/drive/MyDrive/UPSO/Programación Avanzada Python/Código/nombres-1930-1934.csv',\n",
        "           '/content/drive/MyDrive/UPSO/Programación Avanzada Python/Código/nombres-1935-1939.csv',\n",
        "           '/content/drive/MyDrive/UPSO/Programación Avanzada Python/Código/nombres-1940-1944.csv',\n",
        "           '/content/drive/MyDrive/UPSO/Programación Avanzada Python/Código/nombres-1945-1949.csv',\n",
        "           '/content/drive/MyDrive/UPSO/Programación Avanzada Python/Código/nombres-1950-1954.csv',\n",
        "           '/content/drive/MyDrive/UPSO/Programación Avanzada Python/Código/nombres-1955-1959.csv',\n",
        "           '/content/drive/MyDrive/UPSO/Programación Avanzada Python/Código/nombres-1960-1964.csv',\n",
        "           '/content/drive/MyDrive/UPSO/Programación Avanzada Python/Código/nombres-1965-1969.csv',\n",
        "           '/content/drive/MyDrive/UPSO/Programación Avanzada Python/Código/nombres-1970-1974.csv',\n",
        "           '/content/drive/MyDrive/UPSO/Programación Avanzada Python/Código/nombres-1975-1979.csv',\n",
        "           '/content/drive/MyDrive/UPSO/Programación Avanzada Python/Código/nombres-1980-1984.csv',\n",
        "           '/content/drive/MyDrive/UPSO/Programación Avanzada Python/Código/nombres-1985-1989.csv',\n",
        "           '/content/drive/MyDrive/UPSO/Programación Avanzada Python/Código/nombres-1990-1994.csv',\n",
        "           '/content/drive/MyDrive/UPSO/Programación Avanzada Python/Código/nombres-1995-1999.csv',\n",
        "           '/content/drive/MyDrive/UPSO/Programación Avanzada Python/Código/nombres-2000-2004.csv',\n",
        "           '/content/drive/MyDrive/UPSO/Programación Avanzada Python/Código/nombres-2005-2009.csv',\n",
        "           '/content/drive/MyDrive/UPSO/Programación Avanzada Python/Código/nombres-2010-2014.csv'\n",
        "           ]\n",
        "  \n",
        "#cargo el primer archivo a un dataframe\n",
        "dataframe = pd.DataFrame(pd.read_csv(file_list[0]))\n",
        "  \n",
        "#luego, voy concatenando el resto de los archivos\n",
        "for i in range(1,len(file_list)):\n",
        "    data = pd.read_csv(file_list[i])\n",
        "    df = pd.DataFrame(data)\n",
        "    dataframe = pd.concat([dataframe,df],axis=0)"
      ],
      "metadata": {
        "id": "gVSbMPJE7nQu"
      },
      "execution_count": null,
      "outputs": []
    },
    {
      "cell_type": "code",
      "source": [
        "print(dataframe)"
      ],
      "metadata": {
        "id": "e3tniIjanhJF"
      },
      "execution_count": null,
      "outputs": []
    },
    {
      "cell_type": "markdown",
      "source": [
        "*Trabajo sobre el dataframe: quito los valores null, reseteo el índice, y quito caracteres que no son nombres de la columna nombre*"
      ],
      "metadata": {
        "id": "QGottCHpUYvr"
      }
    },
    {
      "cell_type": "code",
      "source": [
        "#Elimino las filas que tengan valores null\n",
        "dataframe = dataframe.dropna(how = 'any')\n",
        "\n",
        "#Luego de eliminar vuelvo a indexar el dataframe\n",
        "dataframe.reset_index(drop = True, inplace = True)\n",
        "\n",
        "#Elimino los espacios extra entre palabras\n",
        "dataframe.nombre =  dataframe.nombre.replace(r'\\s+', ' ', regex=True)\n",
        "\n",
        "#Elimino caracter o conjunto de caracteres que no sean nombres\n",
        "dataframe.nombre =  dataframe.nombre.replace(r'\\(.*\\)', '', regex=True)\n",
        "\n",
        "#Elimino los espacios antes y despues de los nombre\n",
        "dataframe.nombre = dataframe.nombre.str.strip()"
      ],
      "metadata": {
        "id": "v4R7JnfPUTZ9"
      },
      "execution_count": null,
      "outputs": []
    },
    {
      "cell_type": "markdown",
      "source": [
        "**Año con mayor cantidad de personas registradas;**"
      ],
      "metadata": {
        "id": "qNo3yQti8MC6"
      }
    },
    {
      "cell_type": "code",
      "source": [
        "print(\"El año con mayor cantidad de personas registradas es\",end=\" \")\n",
        "print(dataframe.groupby('anio')['cantidad'].sum().idxmax())\n",
        "print(\"con un total de\", dataframe.groupby('anio')['cantidad'].sum().max(), \"personas.\")"
      ],
      "metadata": {
        "id": "NpV6GQjm8M8s"
      },
      "execution_count": null,
      "outputs": []
    },
    {
      "cell_type": "markdown",
      "source": [
        "**Nombre más popular en todo el rango de años;**"
      ],
      "metadata": {
        "id": "K_GCOU2fNeti"
      }
    },
    {
      "cell_type": "code",
      "source": [
        "print(\"El nombre más popular en todo el rango de años es\",end=\" \")\n",
        "print(dataframe.groupby('nombre')['cantidad'].sum().idxmax())\n",
        "print(\"con un total de\", dataframe.groupby('nombre')['cantidad'].sum().max(), \"apariciones.\")"
      ],
      "metadata": {
        "id": "cqYhImbUNgYh"
      },
      "execution_count": null,
      "outputs": []
    },
    {
      "cell_type": "markdown",
      "source": [
        "**Nombre más largo;**"
      ],
      "metadata": {
        "id": "kmxO1_u70Fn3"
      }
    },
    {
      "cell_type": "code",
      "source": [
        "indice = dataframe['nombre'].str.len().idxmax()\n",
        "print(\"El nombre más largo es\",dataframe.loc[indice,'nombre'])"
      ],
      "metadata": {
        "id": "mt6x5RN68DaK"
      },
      "execution_count": null,
      "outputs": []
    },
    {
      "cell_type": "markdown",
      "source": [
        "**Una columna con el número de palabras del nombre;**"
      ],
      "metadata": {
        "id": "RS4YFFYcG61W"
      }
    },
    {
      "cell_type": "code",
      "source": [
        "#Agrego la columna palabras, inicialmente con el valor cero\n",
        "dataframe = dataframe.assign(palabras=0)\n",
        "\n",
        "#la estrategia utilizada para contar las palabras, es contar los espacios que tiene la cadena. Si no hay espacios es porque hay una palabra.\n",
        "#con un espacio es porque hay dos palabras, y así sucesivamente.\n",
        "dataframe['palabras'] = dataframe['nombre'].str.count(' ')+1\n",
        "\n",
        "print(dataframe)"
      ],
      "metadata": {
        "id": "lnMCp9T7Bpo0"
      },
      "execution_count": null,
      "outputs": []
    },
    {
      "cell_type": "markdown",
      "source": [
        "**Una columna con el porcentaje de registro que ese nombre representa en ese año.**"
      ],
      "metadata": {
        "id": "I5S5CrSkOZMO"
      }
    },
    {
      "cell_type": "code",
      "source": [
        "dataframe['porcentaje nombres'] = round((dataframe['cantidad'] / dataframe.groupby('anio')['cantidad'].transform('sum'))*100,4)\n",
        "print(dataframe)"
      ],
      "metadata": {
        "id": "fy5XhnyEtwu6"
      },
      "execution_count": null,
      "outputs": []
    },
    {
      "cell_type": "markdown",
      "source": [
        "**Porcentaje de datos que cada año aportó al total de la información;**"
      ],
      "metadata": {
        "id": "28B0R7f45x14"
      }
    },
    {
      "cell_type": "code",
      "source": [
        "df = round((dataframe.groupby('anio')['cantidad'].sum() / dataframe.cantidad.sum())*100,2).plot(kind = 'bar', title = 'Porcentaje de datos que cada año aportó al total de la información',\n",
        "        xlabel = 'Años', ylabel = 'Cantidad', rot = 0, align = 'center', figsize=(50,20))\n",
        "\n",
        "indices = round((dataframe.groupby('anio')['cantidad'].sum() / dataframe.cantidad.sum())*100,2).values\n",
        "\n",
        "#con este for voy etiquetando cada barra con el porcentaje del aporte de cada año. \n",
        "i=0\n",
        "for p in df.patches:\n",
        "    df.annotate(str(indices[i]) + '%', (p.get_x(), p.get_height()), rotation = 60)\n",
        "    i = i+1"
      ],
      "metadata": {
        "id": "emWPtrWI50cb"
      },
      "execution_count": null,
      "outputs": []
    },
    {
      "cell_type": "markdown",
      "source": [
        "**Evolución del registro de los nombres 'Maria' y 'Juan' (solamente, sin primeros ni segundos nombres, y sin tildes).**\n",
        "**Marcar cuál es el año donde más veces se registraron;**"
      ],
      "metadata": {
        "id": "IbHsrstDCgcT"
      }
    },
    {
      "cell_type": "code",
      "source": [
        "#trabajo con dos dataframes filtrados. Se hizo suma sobre el groupby porque noté que, por ejemplo,\n",
        "#el nombre maria figuraba 2 veces en el año 1920. Uno con 314 apariciones y otro con 1 aparición, por lo que\n",
        "#en el resultado final el nombre Maria debería aparecer 315 veces en el año 1920\n",
        "tablaMaria = dataframe[(dataframe['nombre']=='Maria')].groupby('anio')['cantidad'].sum()\n",
        "tablaJuan = dataframe[(dataframe['nombre']=='Juan')].groupby('anio')['cantidad'].sum()\n",
        "\n",
        "#de las instrucciones anteriores, el resultado son series. Con las siguientes instrucciones convierto esas series a tablas\n",
        "tablaMaria = pd.DataFrame(tablaMaria)\n",
        "tablaJuan = pd.DataFrame(tablaJuan)\n",
        "\n",
        "#------------TRABAJO CON LA TABLA MARIA-------------\n",
        "#Aqui almaceno las apariciones\n",
        "valuesMaria = tablaMaria.cantidad.values\n",
        "\n",
        "#Aqui almaceno los años\n",
        "idxMaria = tablaMaria.index\n",
        "\n",
        "#con esta instrucción trabajo los colores del gráfico. Para el máximo valor usaré el color Rojo, caso contrario color Verde\n",
        "clrsMaria = ['g' if (x < max(valuesMaria)) else 'r' for x in valuesMaria]\n",
        "\n",
        "#Aqui grafico la tabla con las evolución del nombre Maria\n",
        "axMaria = sns.barplot(x = idxMaria, y = valuesMaria, data = tablaMaria, palette = clrsMaria)\n",
        "\n",
        "#con este for, etiqueto cada barra con la cantidad de apariciones\n",
        "for p in axMaria.patches:\n",
        "    axMaria.annotate(str(p.get_height()).replace('.0',''), (p.get_x() + p.get_width() / 2, p.get_height()),\n",
        "                ha='center', va='center', fontsize=11, color='gray', xytext=(0, 5),\n",
        "                textcoords='offset points')\n",
        "\n",
        "#tamaño del gráfico\n",
        "plt.gcf().set_size_inches(50,10)\n",
        "#titulo del gráfico\n",
        "plt.title('Evolución Nombre Maria', fontsize=50)\n",
        "#titulo del eje x\n",
        "plt.xlabel('Años', fontsize=50)\n",
        "plt.show()\n",
        "\n",
        "#------------TRABAJO CON LA TABLA JUAN-------------\n",
        "valuesJuan = tablaJuan.cantidad.values\n",
        "idxJuan = tablaJuan.index\n",
        "\n",
        "clrsJuan = ['b' if (x < max(valuesJuan)) else 'y' for x in valuesJuan]\n",
        "axJuan = sns.barplot(x = idxJuan, y = valuesJuan, data = tablaJuan, palette = clrsJuan)\n",
        "\n",
        "for p in axJuan.patches:\n",
        "    axJuan.annotate(str(p.get_height()).replace('.0',''), (p.get_x() + p.get_width() / 2, p.get_height()),\n",
        "                ha='center', va='center', fontsize=11, color='gray', xytext=(0, 5),\n",
        "                textcoords='offset points')\n",
        "    \n",
        "\n",
        "plt.gcf().set_size_inches(50,10)\n",
        "plt.title('Evolución Nombre Juan', fontsize=50)\n",
        "plt.xlabel('Años', fontsize=50)\n",
        "plt.show()"
      ],
      "metadata": {
        "id": "__rmT_uxsY4N"
      },
      "execution_count": null,
      "outputs": []
    },
    {
      "cell_type": "markdown",
      "source": [
        "**El nombre más popular en cada año.**"
      ],
      "metadata": {
        "id": "lTbQnJOiCOdv"
      }
    },
    {
      "cell_type": "code",
      "source": [
        "#con esta instrucción obtengo los indices (posiciones de las filas)\n",
        "#donde se encuentra el nombre más popular de cada año\n",
        "indices = dataframe.groupby('anio')['cantidad'].idxmax().values\n",
        "\n",
        "#obtengo la lista del nombre más popular de cada año y la grafico.\n",
        "ax = dataframe.loc[indices,:].plot(x = 'anio', y = 'cantidad', kind = 'bar',\n",
        "                              title = 'Nombre más popular por año', legend = False,\n",
        "                              xlabel = 'Años', ylabel = 'Cantidad', rot = 90, stacked = True,\n",
        "                              figsize=(50,20), align = 'center')\n",
        "\n",
        "#con este for voy etiquetando cada barra con el nombre más popular correspondiente a cada año \n",
        "i=0\n",
        "for p in ax.patches:\n",
        "    ax.annotate(str(dataframe.iloc[indices[i],0])+': '+str(dataframe.iloc[indices[i],1]) +' veces', (p.get_x(), p.get_height()/2), rotation = 90, weight='bold')\n",
        "    i = i+1"
      ],
      "metadata": {
        "id": "Wc9G7e_MCPgP"
      },
      "execution_count": null,
      "outputs": []
    }
  ]
}